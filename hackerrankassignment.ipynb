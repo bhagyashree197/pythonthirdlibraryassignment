{
 "cells": [
  {
   "cell_type": "code",
   "execution_count": 3,
   "metadata": {},
   "outputs": [],
   "source": [
    "#Hackerrank assignment"
   ]
  },
  {
   "cell_type": "code",
   "execution_count": 17,
   "metadata": {},
   "outputs": [
    {
     "name": "stdout",
     "output_type": "stream",
     "text": [
      "1 2 3 4 -8 -10\n",
      "[1, 2, 3, 4, -8, -10]\n",
      "[-10.  -8.   4.   3.   2.   1.]\n"
     ]
    }
   ],
   "source": [
    "'''You are given a space separated list of numbers. \n",
    "Your task is to print a reversed NumPy array with the element type float.'''\n",
    "\n",
    "import numpy\n",
    "\n",
    "def arrays(arr):\n",
    "    # coete this function\n",
    "    # use numpy.array\n",
    "    intarray=list(map(int,arr))\n",
    "    print(intarray)\n",
    "    array=numpy.array(intarray,dtype=\"float\")\n",
    "    return array[::-1]\n",
    "\n",
    "arr = input().strip().split(' ')\n",
    "result = arrays(arr)\n",
    "print(result)"
   ]
  },
  {
   "cell_type": "code",
   "execution_count": 28,
   "metadata": {},
   "outputs": [
    {
     "name": "stdout",
     "output_type": "stream",
     "text": [
      "1 2 3 4 5 6 7 8 9 \n",
      "['1' '2' '3' '4' '5' '6' '7' '8' '9']\n",
      "[['1' '2' '3']\n",
      " ['4' '5' '6']\n",
      " ['7' '8' '9']]\n"
     ]
    }
   ],
   "source": [
    "'''You are given a space separated list of nine integers. Your task is to convert this list into a 3X3 NumPy array.\n",
    "'''\n",
    "import numpy\n",
    "def createarray(arr):\n",
    "    intarray=list(map(int,arr))\n",
    "    newarray=numpy.array(arr)\n",
    "    print(newarray)\n",
    "    return(numpy.reshape(newarray,(3,3)))\n",
    "\n",
    "arr = input().strip().split(' ')\n",
    "result = createarray(arr)\n",
    "print(result)\n",
    "    "
   ]
  },
  {
   "cell_type": "code",
   "execution_count": 38,
   "metadata": {},
   "outputs": [
    {
     "name": "stdout",
     "output_type": "stream",
     "text": [
      "Enter the number of rows2\n",
      "Enter the number of columns2\n",
      "1 2 3 4\n",
      "[[1 2]\n",
      " [3 4]]\n",
      "Transposed matrix is:\n",
      " [[1 3]\n",
      " [2 4]]\n",
      "Flattened matrix is:\n",
      " [1 2 3 4]\n"
     ]
    }
   ],
   "source": [
    "'''You are given a NXM integer array matrix with space separated elements (N = rows and M = columns). \n",
    "Your task is to print the transpose and flatten results.'''\n",
    "def transposematrix(arr):\n",
    "    return numpy.transpose(arr)\n",
    "def flattenmatrix(arr):\n",
    "    return(arr.flatten())\n",
    "\n",
    "rows=int(input(\"Enter the number of rows\"))\n",
    "cols=int(input(\"Enter the number of columns\"))\n",
    "arr = input().strip().split(' ')\n",
    "arr=list(map(int,arr))\n",
    "arr=numpy.array(arr).reshape(rows,cols)\n",
    "print(arr)\n",
    "result = transposematrix(arr)\n",
    "\n",
    "print(\"Transposed matrix is:\\n\",result)\n",
    "result = flattenmatrix(arr)\n",
    "print(\"Flattened matrix is:\\n\",result)\n",
    "    \n"
   ]
  },
  {
   "cell_type": "code",
   "execution_count": null,
   "metadata": {},
   "outputs": [],
   "source": [
    "'''You are given two integer arrays of size NXP and MXP (N &M  are rows, P is the column). \n",
    "Your task is to concatenate the arrays along axis 0 .'''\n",
    "\n"
   ]
  },
  {
   "cell_type": "code",
   "execution_count": 47,
   "metadata": {},
   "outputs": [
    {
     "name": "stdout",
     "output_type": "stream",
     "text": [
      "Enter the number of rows of first array4\n",
      "Enter the number of rows of second array3\n",
      "Enter the number of columns of both the arrays2\n",
      "Enter the elements of first array(seperated by a space())1 2 1 2 1 2 1 2\n",
      "Enter the elements of second array(seperated by a space())3 4 3 4 3 4\n",
      "Concatenated matrix is: [[1 2]\n",
      " [1 2]\n",
      " [1 2]\n",
      " [1 2]\n",
      " [3 4]\n",
      " [3 4]\n",
      " [3 4]]\n"
     ]
    }
   ],
   "source": [
    "import numpy as np\n",
    "def concatenatematrix(arr1,arr2):\n",
    "    return (np.concatenate((arr1,arr2)))\n",
    "\n",
    "\n",
    "row1=int(input(\"Enter the number of rows of first array\"))\n",
    "row2=int(input(\"Enter the number of rows of second array\"))\n",
    "cols=int(input(\"Enter the number of columns of both the arrays\"))\n",
    "arr1=input(\"Enter the elements of first array(seperated by a space(\" \"))\")\n",
    "arr2=input(\"Enter the elements of second array(seperated by a space(\" \"))\")\n",
    "arr1 = arr1.strip().split(' ')\n",
    "arr1=list(map(int,arr1))\n",
    "arr1=numpy.array(arr1,dtype='int').reshape(row1,cols)\n",
    "arr2 = arr2.strip().split(' ')\n",
    "arr2=list(map(int,arr2))\n",
    "arr2=numpy.array(arr2,dtype='int').reshape(row2,cols)\n",
    "result =concatenatematrix(arr1,arr2)\n",
    "print(\"Concatenated matrix is:\",result)\n"
   ]
  },
  {
   "cell_type": "code",
   "execution_count": 55,
   "metadata": {},
   "outputs": [
    {
     "name": "stdout",
     "output_type": "stream",
     "text": [
      "Enter the shape of array seperated by a space(Shape<=3 and Shape>=1)5 4\n",
      "The given input is invalid!Please check the input again\n"
     ]
    }
   ],
   "source": [
    "'''You are given the shape of the array in the form of space-separated integers,\n",
    "each integer representing the size of different dimensions,\n",
    "your task is to print an array of the given shape\n",
    "and integer type using the tools numpy.zeros and numpy.ones.'''\n",
    "class InvalidInput(Exception):\n",
    "    pass\n",
    "numberofoutputs=input(\"Enter the shape of array seperated by a space(Shape<=3 and Shape>=1)\")\n",
    "arr=numberofoutputs.strip().split(\" \")\n",
    "arr=list(map(int,arr))\n",
    "try:\n",
    "    for i in arr:\n",
    "        if(i>3 or i<1):\n",
    "            raise InvalidInput()\n",
    "    print(\"Ones array of given input is:\")\n",
    "    print(list(map(lambda a:print(numpy.ones(shape=(a,a),dtype='int')),arr)))\n",
    "    print(\"Zeros array of given input is:\")\n",
    "    print(list(map(lambda a:print(numpy.zeros(shape=(a,a),dtype='int')),arr)))\n",
    "except InvalidInput as ip:\n",
    "    print(\"The given input is invalid!Please check the input again\")"
   ]
  },
  {
   "cell_type": "code",
   "execution_count": 58,
   "metadata": {},
   "outputs": [
    {
     "name": "stdout",
     "output_type": "stream",
     "text": [
      "Enter the number of rows and columns2 3\n",
      "The formed matrix is\n",
      " [[1 0 0]\n",
      " [0 1 0]]\n"
     ]
    }
   ],
   "source": [
    "'''Your task is to print an\n",
    "array of size NXM with its main diagonal elements as 1's and 0's everywhere else.'''\n",
    "import numpy as np\n",
    "rows,cols=input(\"Enter the number of rows and columns\").strip().split(' ')\n",
    "rows=int(rows)\n",
    "cols=int(cols)\n",
    "print(\"The formed matrix is\\n\",np.eye(rows,cols,k=0,dtype=int))\n",
    "\n"
   ]
  },
  {
   "cell_type": "code",
   "execution_count": 66,
   "metadata": {},
   "outputs": [
    {
     "name": "stdout",
     "output_type": "stream",
     "text": [
      "Enter the number of rows and columns: 1 3\n",
      "Enter the space separated values of array 1:1 2 3\n",
      "Enter the space separated values of array 2:4 5 6\n",
      "Addition of the elements of two array is : [[5 7 9]]\n",
      "Subtraction of the elements of two array is : [[-3 -3 -3]]\n",
      "Multiplication of the elements of two array is : [[ 4 10 18]]\n",
      "Division of the elements of two array is : [[0.25 0.4  0.5 ]]\n",
      "Mod of the elements of two array is : [[1 2 3]]\n",
      "Power of the elements of two array is : [[  1  32 729]]\n"
     ]
    }
   ],
   "source": [
    "'''You are given two integer arrays, A and B  of dimensions NXM. \n",
    "Your task is to perform the following operations:\n",
    "\n",
    "Add (A + B)\n",
    "Subtract (A - B)\n",
    "Multiply (A * B )\n",
    "Integer Division (A /B )\n",
    "Mod (A % B )\n",
    "Power (A ** B )'''\n",
    "import numpy as np\n",
    "rows,cols=input(\"Enter the number of rows and columns:\").strip().split(' ')\n",
    "rows=int(rows)\n",
    "cols=int(cols)\n",
    "arr1=input(\"Enter the space separated values of array 1:\").strip().split(' ')\n",
    "arr2=input(\"Enter the space separated values of array 2:\").strip().split(' ')\n",
    "arr1=list(map(int,arr1))\n",
    "arr2=list(map(int,arr2))\n",
    "\n",
    "arr1=np.array(arr1).reshape(rows,cols)\n",
    "arr2=np.array(arr2).reshape(rows,cols)\n",
    "print(\"Addition of the elements of two array is :\",(arr1+arr2))\n",
    "print(\"Subtraction of the elements of two array is :\",(arr1-arr2))\n",
    "print(\"Multiplication of the elements of two array is :\",(arr1*arr2))\n",
    "print(\"Division of the elements of two array is :\",(arr1/arr2))\n",
    "print(\"Mod of the elements of two array is :\",(arr1%arr2))\n",
    "print(\"Power of the elements of two array is :\",(arr1**arr2))"
   ]
  },
  {
   "cell_type": "code",
   "execution_count": 68,
   "metadata": {},
   "outputs": [
    {
     "name": "stdout",
     "output_type": "stream",
     "text": [
      "Enter the elements of the array separated by space:2.4 5.6\n",
      "The floor value of all the elements of array are [2. 5.]\n",
      "The ceil value of all the elements of array are [3. 6.]\n",
      "The round  value of all the elements of array are [2. 6.]\n"
     ]
    }
   ],
   "source": [
    "'''You are given a 1-D array,A . Your task is to print the floor ,ceil  and rint  of all the elements of A.'''\n",
    "import numpy as np\n",
    "inputarray=input(\"Enter the elements of the array separated by space:\").strip().split(' ')\n",
    "inputarray=list(map(float,inputarray))\n",
    "print(\"The floor value of all the elements of array are\",np.floor(inputarray))\n",
    "print(\"The ceil value of all the elements of array are\",np.ceil(inputarray))\n",
    "print(\"The round  value of all the elements of array are\",np.rint(inputarray))"
   ]
  },
  {
   "cell_type": "code",
   "execution_count": 70,
   "metadata": {},
   "outputs": [
    {
     "name": "stdout",
     "output_type": "stream",
     "text": [
      "Enter the number of rows and columns in the array:2 4 \n",
      "Enter the values of the array seperated by space:1 2 3 4 5 6 7 8\n",
      "The formed array is: [[1 2 3 4]\n",
      " [5 6 7 8]]\n",
      "The sum of every row of the array is: [ 6  8 10 12]\n",
      "The product of the newly formed array after summation is 5760\n"
     ]
    }
   ],
   "source": [
    "'''You are given a 2-D array with dimensions NXM. \n",
    "Your task is to perform the sum  tool over axis  and then find the product of that result.'''\n",
    "\n",
    "import numpy as np\n",
    "rows,cols=input(\"Enter the number of rows and columns in the array:\").strip().split(' ')\n",
    "rows=int(rows)\n",
    "cols=int(cols)\n",
    "arr_values=input(\"Enter the values of the array seperated by space:\").strip().split(' ')\n",
    "arr_values=list(map(int,arr_values))\n",
    "new_array=np.array(arr_values).reshape(rows,cols)\n",
    "print(\"The formed array is:\\n\",new_array)\n",
    "print(\"The sum of every column of the array is:\",np.sum(new_array,axis=0))\n",
    "print(\"The product of the newly formed array after summation is\",np.prod(np.sum(new_array,axis=0)))"
   ]
  },
  {
   "cell_type": "code",
   "execution_count": 73,
   "metadata": {},
   "outputs": [
    {
     "name": "stdout",
     "output_type": "stream",
     "text": [
      "Enter the number of rows and columns in the array:2 4\n",
      "Enter the values of the array seperated by space:1 2 3 4 5 6 7 8\n",
      "The formed array is:\n",
      " [[1 2 3 4]\n",
      " [5 6 7 8]]\n",
      "The minimum value along each row is:  [1 5]\n",
      "The maximum value in the newly formed array(Array after finding min along each row is:) 5\n"
     ]
    }
   ],
   "source": [
    "'''You are given a 2-D array with dimensions X. \n",
    "Your task is to perform the min function over axis  and then find the max of that'''\n",
    "import numpy\n",
    "rows,cols=input(\"Enter the number of rows and columns in the array:\").strip().split(' ')\n",
    "rows=int(rows)\n",
    "cols=int(cols)\n",
    "arr_values=input(\"Enter the values of the array seperated by space:\").strip().split(' ')\n",
    "arr_values=list(map(int,arr_values))\n",
    "new_array=np.array(arr_values).reshape(rows,cols)\n",
    "print(\"The formed array is:\\n\",new_array)\n",
    "print(\"The minimum value along each row is: \",np.min(new_array,axis=1))\n",
    "print(\"The maximum value in the newly formed array(Array after finding min along each row is:)\",np.max(np.min(new_array,axis=1)))"
   ]
  },
  {
   "cell_type": "code",
   "execution_count": 74,
   "metadata": {},
   "outputs": [
    {
     "name": "stdout",
     "output_type": "stream",
     "text": [
      "Enter the number of rows and columns in the array:2 4\n",
      "Enter the values of the array seperated by space:1 2 3 4 5 6 7 8\n",
      "The formed array is:\n",
      " [[1 2 3 4]\n",
      " [5 6 7 8]]\n",
      "Mean of the elements along each row is : [2.5 6.5]\n",
      "Variance of the elements along each column is : [4. 4. 4. 4.]\n",
      "Standard Deviation of all the elements : 5.25\n"
     ]
    }
   ],
   "source": [
    "'''You are given a 2-D array of size NXM. \n",
    "Your task is to find:\n",
    "\n",
    "The mean along axis 1\n",
    "The var along axis 0 \n",
    "The std along axis None'''\n",
    "import numpy\n",
    "rows,cols=input(\"Enter the number of rows and columns in the array:\").strip().split(' ')\n",
    "rows=int(rows)\n",
    "cols=int(cols)\n",
    "arr_values=input(\"Enter the values of the array seperated by space:\").strip().split(' ')\n",
    "arr_values=list(map(int,arr_values))\n",
    "new_array=np.array(arr_values).reshape(rows,cols)\n",
    "print(\"The formed array is:\\n\",new_array)\n",
    "print(\"Mean of the elements along each row is :\",np.mean(new_array,axis=1))\n",
    "print(\"Variance of the elements along each column is :\",np.var(new_array,axis=0))\n",
    "print(\"Standard Deviation of all the elements :\",np.var(new_array,axis=None))\n",
    "\n"
   ]
  },
  {
   "cell_type": "code",
   "execution_count": 91,
   "metadata": {},
   "outputs": [
    {
     "name": "stdout",
     "output_type": "stream",
     "text": [
      "Enter the number of rows(Value of row and column will be same for both the matrix)2\n",
      "Enter the elements of array1 seperated by a space1 2 3 4\n",
      "Enter the elements of array2 separated by a space5 6 7 8\n",
      "[[1 2]\n",
      " [3 4]]\n",
      "[[5 6]\n",
      " [7 8]]\n",
      "[1 2]\n",
      "[5 7]\n",
      "19\n",
      "[1 2]\n",
      "[6 8]\n",
      "22\n",
      "[3 4]\n",
      "[5 7]\n",
      "43\n",
      "[3 4]\n",
      "[6 8]\n",
      "50\n",
      "Matrix Product of both the array is:\n",
      " [[19 22]\n",
      " [43 50]]\n"
     ]
    }
   ],
   "source": [
    "'''You are given two arrays  and . Both have dimensions of X. \n",
    "Your task is to compute their matrix product.'''\n",
    "row=int(input(\"Enter the number of rows(Value of row and column will be same for both the matrix)\"))\n",
    "arr1=input(\"Enter the elements of array1 seperated by a space\").strip().split(' ')\n",
    "arr2=input(\"Enter the elements of array2 separated by a space\").strip().split(' ')\n",
    "arr1=np.array(list(map(int,arr1))).reshape(row,row)\n",
    "arr2=np.array(list(map(int,arr2))).reshape(row,row)\n",
    "print(arr1)\n",
    "print(arr2)\n",
    "new_array=np.zeros(shape=(row,row),dtype='int')\n",
    "for i in range(row):\n",
    "    for j in range(row):\n",
    "        arr_new1=np.array(list(arr1[i]))\n",
    "        arr_new2=np.array(list(arr2[:,j]))\n",
    "        dot_product=np.dot(arr_new1,arr_new2)\n",
    "        new_array[i,j]=dot_product\n",
    "print(\"Matrix Product of both the array is:\\n\",new_array)\n",
    "        \n",
    "\n",
    "\n"
   ]
  },
  {
   "cell_type": "code",
   "execution_count": 95,
   "metadata": {},
   "outputs": [
    {
     "name": "stdout",
     "output_type": "stream",
     "text": [
      "Enter the elements of array1:1 2 3 4\n",
      "Enter the elements of array2:2 3 4 5\n",
      "The inner product of array is:\n",
      " 40\n",
      "The outer product of array is:\n",
      " [[ 2  3  4  5]\n",
      " [ 4  6  8 10]\n",
      " [ 6  9 12 15]\n",
      " [ 8 12 16 20]]\n"
     ]
    }
   ],
   "source": [
    "''' You are given two arrays:A and B . \n",
    "Your task is to compute their inner and outer product.'''\n",
    "arr1=input(\"Enter the elements of array1:\").strip().split(' ')\n",
    "arr2=input(\"Enter the elements of array2:\").strip().split(' ')\n",
    "arr1=list(map(int,arr1))\n",
    "arr2=list(map(int,arr2))\n",
    "print(\"The inner product of array is:\\n\",np.inner(arr1,arr2))\n",
    "print(\"The outer product of array is:\\n\",np.outer(arr1,arr2))\n",
    "\n",
    "\n"
   ]
  },
  {
   "cell_type": "code",
   "execution_count": 101,
   "metadata": {},
   "outputs": [
    {
     "name": "stdout",
     "output_type": "stream",
     "text": [
      "Enter the number of rows and columns(Column and Row number is same)2\n",
      "Enter the elements of the matrix:1 2 3 4\n",
      "The determinant of the matrix is -2.00:\n"
     ]
    }
   ],
   "source": [
    "'''You are given a square matrix  with dimensions X. Your task is to find the determinant. Note: Round the answer to 2 places after the decimal.'''\n",
    "import numpy as np\n",
    "row=int(input(\"Enter the number of rows and columns(Column and Row number is same)\"))\n",
    "elements=input(\"Enter the elements of the matrix:\").strip().split(' ')\n",
    "int_array=list(map(int,elements))\n",
    "matrix_array=np.array(int_array).reshape(row,row)\n",
    "print(\"The determinant of the matrix is %.2f:\"%np.linalg.det(matrix_array))\n"
   ]
  },
  {
   "cell_type": "code",
   "execution_count": 102,
   "metadata": {},
   "outputs": [],
   "source": [
    "#Pandas Assignment \n",
    "#File-Automobile_data.csv"
   ]
  },
  {
   "cell_type": "code",
   "execution_count": 106,
   "metadata": {},
   "outputs": [
    {
     "name": "stdout",
     "output_type": "stream",
     "text": [
      "The first five lines are:\n",
      "    index      company   body-style  wheel-base  length engine-type  \\\n",
      "0      0  alfa-romero  convertible        88.6   168.8        dohc   \n",
      "1      1  alfa-romero  convertible        88.6   168.8        dohc   \n",
      "2      2  alfa-romero    hatchback        94.5   171.2        ohcv   \n",
      "3      3         audi        sedan        99.8   176.6         ohc   \n",
      "4      4         audi        sedan        99.4   176.6         ohc   \n",
      "\n",
      "  num-of-cylinders  horsepower  average-mileage    price  \n",
      "0             four         111               21  13495.0  \n",
      "1             four         111               21  16500.0  \n",
      "2              six         154               19  16500.0  \n",
      "3             four         102               24  13950.0  \n",
      "4             five         115               18  17450.0  \n",
      "The last five lines are:\n",
      "     index     company body-style  wheel-base  length engine-type  \\\n",
      "56     81  volkswagen      sedan        97.3   171.7         ohc   \n",
      "57     82  volkswagen      sedan        97.3   171.7         ohc   \n",
      "58     86  volkswagen      sedan        97.3   171.7         ohc   \n",
      "59     87       volvo      sedan       104.3   188.8         ohc   \n",
      "60     88       volvo      wagon       104.3   188.8         ohc   \n",
      "\n",
      "   num-of-cylinders  horsepower  average-mileage    price  \n",
      "56             four          85               27   7975.0  \n",
      "57             four          52               37   7995.0  \n",
      "58             four         100               26   9995.0  \n",
      "59             four         114               23  12940.0  \n",
      "60             four         114               23  13415.0  \n"
     ]
    }
   ],
   "source": [
    "'''From given data set print first and last five rows'''\n",
    "import pandas as pd\n",
    "generated_data=pd.read_csv(\"Automobile_data.csv\",sep=',')\n",
    "print(\"The first five lines are:\\n\",generated_data.head(5))\n",
    "print(\"The last five lines are:\\n\",generated_data.tail(5))"
   ]
  },
  {
   "cell_type": "code",
   "execution_count": 107,
   "metadata": {},
   "outputs": [
    {
     "name": "stdout",
     "output_type": "stream",
     "text": [
      "    index        company   body-style  wheel-base  length engine-type  \\\n",
      "0       0    alfa-romero  convertible        88.6   168.8        dohc   \n",
      "1       1    alfa-romero  convertible        88.6   168.8        dohc   \n",
      "2       2    alfa-romero    hatchback        94.5   171.2        ohcv   \n",
      "3       3           audi        sedan        99.8   176.6         ohc   \n",
      "4       4           audi        sedan        99.4   176.6         ohc   \n",
      "5       5           audi        sedan        99.8   177.3         ohc   \n",
      "6       6           audi        wagon       105.8   192.7         ohc   \n",
      "7       9            bmw        sedan       101.2   176.8         ohc   \n",
      "8      10            bmw        sedan       101.2   176.8         ohc   \n",
      "9      11            bmw        sedan       101.2   176.8         ohc   \n",
      "10     13            bmw        sedan       103.5   189.0         ohc   \n",
      "11     14            bmw        sedan       103.5   193.8         ohc   \n",
      "12     15            bmw        sedan       110.0   197.0         ohc   \n",
      "13     16      chevrolet    hatchback        88.4   141.1           l   \n",
      "14     17      chevrolet    hatchback        94.5   155.9         ohc   \n",
      "15     18      chevrolet        sedan        94.5   158.8         ohc   \n",
      "16     19          dodge    hatchback        93.7   157.3         ohc   \n",
      "17     20          dodge    hatchback        93.7   157.3         ohc   \n",
      "18     27          honda        wagon        96.5   157.1         ohc   \n",
      "19     28          honda        sedan        96.5   175.4         ohc   \n",
      "20     29          honda        sedan        96.5   169.1         ohc   \n",
      "21     30          isuzu        sedan        94.3   170.7         ohc   \n",
      "22     31          isuzu        sedan        94.5   155.9         ohc   \n",
      "23     32          isuzu        sedan        94.5   155.9         ohc   \n",
      "24     33         jaguar        sedan       113.0   199.6        dohc   \n",
      "25     34         jaguar        sedan       113.0   199.6        dohc   \n",
      "26     35         jaguar        sedan       102.0   191.7        ohcv   \n",
      "27     36          mazda    hatchback        93.1   159.1         ohc   \n",
      "28     37          mazda    hatchback        93.1   159.1         ohc   \n",
      "29     38          mazda    hatchback        93.1   159.1         ohc   \n",
      "..    ...            ...          ...         ...     ...         ...   \n",
      "31     43          mazda        sedan       104.9   175.0         ohc   \n",
      "32     44  mercedes-benz        sedan       110.0   190.9         ohc   \n",
      "33     45  mercedes-benz        wagon       110.0   190.9         ohc   \n",
      "34     46  mercedes-benz        sedan       120.9   208.1        ohcv   \n",
      "35     47  mercedes-benz      hardtop       112.0   199.2        ohcv   \n",
      "36     49     mitsubishi    hatchback        93.7   157.3         ohc   \n",
      "37     50     mitsubishi    hatchback        93.7   157.3         ohc   \n",
      "38     51     mitsubishi        sedan        96.3   172.4         ohc   \n",
      "39     52     mitsubishi        sedan        96.3   172.4         ohc   \n",
      "40     53         nissan        sedan        94.5   165.3         ohc   \n",
      "41     54         nissan        sedan        94.5   165.3         ohc   \n",
      "42     55         nissan        sedan        94.5   165.3         ohc   \n",
      "43     56         nissan        wagon        94.5   170.2         ohc   \n",
      "44     57         nissan        sedan       100.4   184.6        ohcv   \n",
      "45     61        porsche      hardtop        89.5   168.9        ohcf   \n",
      "46     62        porsche  convertible        89.5   168.9        ohcf   \n",
      "47     63        porsche    hatchback        98.4   175.7       dohcv   \n",
      "48     66         toyota    hatchback        95.7   158.7         ohc   \n",
      "49     67         toyota    hatchback        95.7   158.7         ohc   \n",
      "50     68         toyota    hatchback        95.7   158.7         ohc   \n",
      "51     69         toyota        wagon        95.7   169.7         ohc   \n",
      "52     70         toyota        wagon        95.7   169.7         ohc   \n",
      "53     71         toyota        wagon        95.7   169.7         ohc   \n",
      "54     79         toyota        wagon       104.5   187.8        dohc   \n",
      "55     80     volkswagen        sedan        97.3   171.7         ohc   \n",
      "56     81     volkswagen        sedan        97.3   171.7         ohc   \n",
      "57     82     volkswagen        sedan        97.3   171.7         ohc   \n",
      "58     86     volkswagen        sedan        97.3   171.7         ohc   \n",
      "59     87          volvo        sedan       104.3   188.8         ohc   \n",
      "60     88          volvo        wagon       104.3   188.8         ohc   \n",
      "\n",
      "   num-of-cylinders  horsepower  average-mileage    price  \n",
      "0              four         111               21  13495.0  \n",
      "1              four         111               21  16500.0  \n",
      "2               six         154               19  16500.0  \n",
      "3              four         102               24  13950.0  \n",
      "4              five         115               18  17450.0  \n",
      "5              five         110               19  15250.0  \n",
      "6              five         110               19  18920.0  \n",
      "7              four         101               23  16430.0  \n",
      "8              four         101               23  16925.0  \n",
      "9               six         121               21  20970.0  \n",
      "10              six         182               16  30760.0  \n",
      "11              six         182               16  41315.0  \n",
      "12              six         182               15  36880.0  \n",
      "13            three          48               47   5151.0  \n",
      "14             four          70               38   6295.0  \n",
      "15             four          70               38   6575.0  \n",
      "16             four          68               31   6377.0  \n",
      "17             four          68               31   6229.0  \n",
      "18             four          76               30   7295.0  \n",
      "19             four         101               24  12945.0  \n",
      "20             four         100               25  10345.0  \n",
      "21             four          78               24   6785.0  \n",
      "22             four          70               38      NaN  \n",
      "23             four          70               38      NaN  \n",
      "24              six         176               15  32250.0  \n",
      "25              six         176               15  35550.0  \n",
      "26           twelve         262               13  36000.0  \n",
      "27             four          68               30   5195.0  \n",
      "28             four          68               31   6095.0  \n",
      "29             four          68               31   6795.0  \n",
      "..              ...         ...              ...      ...  \n",
      "31             four          72               31  18344.0  \n",
      "32             five         123               22  25552.0  \n",
      "33             five         123               22  28248.0  \n",
      "34            eight         184               14  40960.0  \n",
      "35            eight         184               14  45400.0  \n",
      "36             four          68               37   5389.0  \n",
      "37             four          68               31   6189.0  \n",
      "38             four          88               25   6989.0  \n",
      "39             four          88               25   8189.0  \n",
      "40             four          55               45   7099.0  \n",
      "41             four          69               31   6649.0  \n",
      "42             four          69               31   6849.0  \n",
      "43             four          69               31   7349.0  \n",
      "44              six         152               19  13499.0  \n",
      "45              six         207               17  34028.0  \n",
      "46              six         207               17  37028.0  \n",
      "47            eight         288               17      NaN  \n",
      "48             four          62               35   5348.0  \n",
      "49             four          62               31   6338.0  \n",
      "50             four          62               31   6488.0  \n",
      "51             four          62               31   6918.0  \n",
      "52             four          62               27   7898.0  \n",
      "53             four          62               27   8778.0  \n",
      "54              six         156               19  15750.0  \n",
      "55             four          52               37   7775.0  \n",
      "56             four          85               27   7975.0  \n",
      "57             four          52               37   7995.0  \n",
      "58             four         100               26   9995.0  \n",
      "59             four         114               23  12940.0  \n",
      "60             four         114               23  13415.0  \n",
      "\n",
      "[61 rows x 10 columns]\n"
     ]
    }
   ],
   "source": [
    "'''Replace all column values which contain ‘?’ and n.a with NaN'''\n",
    "import pandas as pd\n",
    "generated_data=pd.read_csv(\"Automobile_data.csv\",sep=',')\n",
    "generated_data.replace(\"?\",'NaN')\n",
    "generated_data.fillna('Nan')\n",
    "print(generated_data)"
   ]
  },
  {
   "cell_type": "code",
   "execution_count": 130,
   "metadata": {},
   "outputs": [
    {
     "name": "stdout",
     "output_type": "stream",
     "text": [
      "<class 'pandas.core.frame.DataFrame'>\n",
      "          company    price\n",
      "35  mercedes-benz  45400.0\n"
     ]
    }
   ],
   "source": [
    "'''Print most expensive car’s company name and price.'''\n",
    "import pandas as pd\n",
    "extracted_file=pd.read_csv(\"Automobile_data.csv\",sep=',')\n",
    "generated_data=pd.DataFrame(extracted_file[['company','price']])\n",
    "price=generated_data['price']\n",
    "max_price=price.max()\n",
    "print(generated_data[generated_data['price']==max_price])\n",
    "\n",
    "# print(generated_data[generated_data['price']==max_price])"
   ]
  },
  {
   "cell_type": "code",
   "execution_count": 131,
   "metadata": {},
   "outputs": [
    {
     "name": "stdout",
     "output_type": "stream",
     "text": [
      "    index company body-style  wheel-base  length engine-type num-of-cylinders  \\\n",
      "48     66  toyota  hatchback        95.7   158.7         ohc             four   \n",
      "49     67  toyota  hatchback        95.7   158.7         ohc             four   \n",
      "50     68  toyota  hatchback        95.7   158.7         ohc             four   \n",
      "51     69  toyota      wagon        95.7   169.7         ohc             four   \n",
      "52     70  toyota      wagon        95.7   169.7         ohc             four   \n",
      "53     71  toyota      wagon        95.7   169.7         ohc             four   \n",
      "54     79  toyota      wagon       104.5   187.8        dohc              six   \n",
      "\n",
      "    horsepower  average-mileage    price  \n",
      "48          62               35   5348.0  \n",
      "49          62               31   6338.0  \n",
      "50          62               31   6488.0  \n",
      "51          62               31   6918.0  \n",
      "52          62               27   7898.0  \n",
      "53          62               27   8778.0  \n",
      "54         156               19  15750.0  \n"
     ]
    }
   ],
   "source": [
    "'''Print All Toyota Cars details'''\n",
    "import pandas as pd\n",
    "extracted_file=pd.read_csv(\"Automobile_data.csv\",sep=',')\n",
    "print(extracted_file[extracted_file['company']=='toyota'])"
   ]
  },
  {
   "cell_type": "code",
   "execution_count": 141,
   "metadata": {},
   "outputs": [
    {
     "name": "stdout",
     "output_type": "stream",
     "text": [
      "               company\n",
      "company               \n",
      "alfa-romero          3\n",
      "audi                 4\n",
      "bmw                  6\n",
      "chevrolet            3\n",
      "dodge                2\n",
      "honda                3\n",
      "isuzu                3\n",
      "jaguar               3\n",
      "mazda                5\n",
      "mercedes-benz        4\n",
      "mitsubishi           4\n",
      "nissan               5\n",
      "porsche              3\n",
      "toyota               7\n",
      "volkswagen           4\n",
      "volvo                2\n"
     ]
    }
   ],
   "source": [
    "'''Count total cars per company'''\n",
    "import pandas as pd\n",
    "extracted_file=pd.read_csv(\"Automobile_data.csv\",sep=',')\n",
    "print(extracted_file.groupby('company').agg({'company':'count'}))"
   ]
  },
  {
   "cell_type": "code",
   "execution_count": 150,
   "metadata": {},
   "outputs": [
    {
     "name": "stdout",
     "output_type": "stream",
     "text": [
      "                 price\n",
      "company               \n",
      "alfa-romero    16500.0\n",
      "audi           18920.0\n",
      "bmw            41315.0\n",
      "chevrolet       6575.0\n",
      "dodge           6377.0\n",
      "honda          12945.0\n",
      "isuzu           6785.0\n",
      "jaguar         36000.0\n",
      "mazda          18344.0\n",
      "mercedes-benz  45400.0\n",
      "mitsubishi      8189.0\n",
      "nissan         13499.0\n",
      "porsche        37028.0\n",
      "toyota         15750.0\n",
      "volkswagen      9995.0\n",
      "volvo          13415.0\n"
     ]
    }
   ],
   "source": [
    "'''Find each company’s Higesht price car'''\n",
    "import pandas as pd\n",
    "extracted_file=pd.read_csv(\"Automobile_data.csv\",sep=',')\n",
    "print(extracted_file.groupby('company').agg({'price':'max'}))\n"
   ]
  },
  {
   "cell_type": "code",
   "execution_count": 154,
   "metadata": {},
   "outputs": [
    {
     "name": "stdout",
     "output_type": "stream",
     "text": [
      "               average-mileage\n",
      "company                       \n",
      "alfa-romero          20.333333\n",
      "audi                 20.000000\n",
      "bmw                  19.000000\n",
      "chevrolet            41.000000\n",
      "dodge                31.000000\n",
      "honda                26.333333\n",
      "isuzu                33.333333\n",
      "jaguar               14.333333\n",
      "mazda                28.000000\n",
      "mercedes-benz        18.000000\n",
      "mitsubishi           29.500000\n",
      "nissan               31.400000\n",
      "porsche              17.000000\n",
      "toyota               28.714286\n",
      "volkswagen           31.750000\n",
      "volvo                23.000000\n"
     ]
    }
   ],
   "source": [
    "'''Find the average mileage of each car making company'''\n",
    "import pandas as pd\n",
    "extracted_file=pd.read_csv(\"Automobile_data.csv\",sep=',')\n",
    "print(extracted_file.groupby('company').agg({'average-mileage':'mean'}))"
   ]
  },
  {
   "cell_type": "code",
   "execution_count": 156,
   "metadata": {},
   "outputs": [
    {
     "name": "stdout",
     "output_type": "stream",
     "text": [
      "    index        company   body-style  wheel-base  length engine-type  \\\n",
      "35     47  mercedes-benz      hardtop       112.0   199.2        ohcv   \n",
      "11     14            bmw        sedan       103.5   193.8         ohc   \n",
      "34     46  mercedes-benz        sedan       120.9   208.1        ohcv   \n",
      "46     62        porsche  convertible        89.5   168.9        ohcf   \n",
      "12     15            bmw        sedan       110.0   197.0         ohc   \n",
      "26     35         jaguar        sedan       102.0   191.7        ohcv   \n",
      "25     34         jaguar        sedan       113.0   199.6        dohc   \n",
      "45     61        porsche      hardtop        89.5   168.9        ohcf   \n",
      "24     33         jaguar        sedan       113.0   199.6        dohc   \n",
      "10     13            bmw        sedan       103.5   189.0         ohc   \n",
      "33     45  mercedes-benz        wagon       110.0   190.9         ohc   \n",
      "32     44  mercedes-benz        sedan       110.0   190.9         ohc   \n",
      "9      11            bmw        sedan       101.2   176.8         ohc   \n",
      "6       6           audi        wagon       105.8   192.7         ohc   \n",
      "31     43          mazda        sedan       104.9   175.0         ohc   \n",
      "4       4           audi        sedan        99.4   176.6         ohc   \n",
      "8      10            bmw        sedan       101.2   176.8         ohc   \n",
      "2       2    alfa-romero    hatchback        94.5   171.2        ohcv   \n",
      "1       1    alfa-romero  convertible        88.6   168.8        dohc   \n",
      "7       9            bmw        sedan       101.2   176.8         ohc   \n",
      "54     79         toyota        wagon       104.5   187.8        dohc   \n",
      "5       5           audi        sedan        99.8   177.3         ohc   \n",
      "3       3           audi        sedan        99.8   176.6         ohc   \n",
      "44     57         nissan        sedan       100.4   184.6        ohcv   \n",
      "0       0    alfa-romero  convertible        88.6   168.8        dohc   \n",
      "60     88          volvo        wagon       104.3   188.8         ohc   \n",
      "19     28          honda        sedan        96.5   175.4         ohc   \n",
      "59     87          volvo        sedan       104.3   188.8         ohc   \n",
      "30     39          mazda    hatchback        95.3   169.0       rotor   \n",
      "20     29          honda        sedan        96.5   169.1         ohc   \n",
      "..    ...            ...          ...         ...     ...         ...   \n",
      "53     71         toyota        wagon        95.7   169.7         ohc   \n",
      "39     52     mitsubishi        sedan        96.3   172.4         ohc   \n",
      "57     82     volkswagen        sedan        97.3   171.7         ohc   \n",
      "56     81     volkswagen        sedan        97.3   171.7         ohc   \n",
      "52     70         toyota        wagon        95.7   169.7         ohc   \n",
      "55     80     volkswagen        sedan        97.3   171.7         ohc   \n",
      "43     56         nissan        wagon        94.5   170.2         ohc   \n",
      "18     27          honda        wagon        96.5   157.1         ohc   \n",
      "40     53         nissan        sedan        94.5   165.3         ohc   \n",
      "38     51     mitsubishi        sedan        96.3   172.4         ohc   \n",
      "51     69         toyota        wagon        95.7   169.7         ohc   \n",
      "42     55         nissan        sedan        94.5   165.3         ohc   \n",
      "29     38          mazda    hatchback        93.1   159.1         ohc   \n",
      "21     30          isuzu        sedan        94.3   170.7         ohc   \n",
      "41     54         nissan        sedan        94.5   165.3         ohc   \n",
      "15     18      chevrolet        sedan        94.5   158.8         ohc   \n",
      "50     68         toyota    hatchback        95.7   158.7         ohc   \n",
      "16     19          dodge    hatchback        93.7   157.3         ohc   \n",
      "49     67         toyota    hatchback        95.7   158.7         ohc   \n",
      "14     17      chevrolet    hatchback        94.5   155.9         ohc   \n",
      "17     20          dodge    hatchback        93.7   157.3         ohc   \n",
      "37     50     mitsubishi    hatchback        93.7   157.3         ohc   \n",
      "28     37          mazda    hatchback        93.1   159.1         ohc   \n",
      "36     49     mitsubishi    hatchback        93.7   157.3         ohc   \n",
      "48     66         toyota    hatchback        95.7   158.7         ohc   \n",
      "27     36          mazda    hatchback        93.1   159.1         ohc   \n",
      "13     16      chevrolet    hatchback        88.4   141.1           l   \n",
      "22     31          isuzu        sedan        94.5   155.9         ohc   \n",
      "23     32          isuzu        sedan        94.5   155.9         ohc   \n",
      "47     63        porsche    hatchback        98.4   175.7       dohcv   \n",
      "\n",
      "   num-of-cylinders  horsepower  average-mileage    price  \n",
      "35            eight         184               14  45400.0  \n",
      "11              six         182               16  41315.0  \n",
      "34            eight         184               14  40960.0  \n",
      "46              six         207               17  37028.0  \n",
      "12              six         182               15  36880.0  \n",
      "26           twelve         262               13  36000.0  \n",
      "25              six         176               15  35550.0  \n",
      "45              six         207               17  34028.0  \n",
      "24              six         176               15  32250.0  \n",
      "10              six         182               16  30760.0  \n",
      "33             five         123               22  28248.0  \n",
      "32             five         123               22  25552.0  \n",
      "9               six         121               21  20970.0  \n",
      "6              five         110               19  18920.0  \n",
      "31             four          72               31  18344.0  \n",
      "4              five         115               18  17450.0  \n",
      "8              four         101               23  16925.0  \n",
      "2               six         154               19  16500.0  \n",
      "1              four         111               21  16500.0  \n",
      "7              four         101               23  16430.0  \n",
      "54              six         156               19  15750.0  \n",
      "5              five         110               19  15250.0  \n",
      "3              four         102               24  13950.0  \n",
      "44              six         152               19  13499.0  \n",
      "0              four         111               21  13495.0  \n",
      "60             four         114               23  13415.0  \n",
      "19             four         101               24  12945.0  \n",
      "59             four         114               23  12940.0  \n",
      "30              two         101               17  11845.0  \n",
      "20             four         100               25  10345.0  \n",
      "..              ...         ...              ...      ...  \n",
      "53             four          62               27   8778.0  \n",
      "39             four          88               25   8189.0  \n",
      "57             four          52               37   7995.0  \n",
      "56             four          85               27   7975.0  \n",
      "52             four          62               27   7898.0  \n",
      "55             four          52               37   7775.0  \n",
      "43             four          69               31   7349.0  \n",
      "18             four          76               30   7295.0  \n",
      "40             four          55               45   7099.0  \n",
      "38             four          88               25   6989.0  \n",
      "51             four          62               31   6918.0  \n",
      "42             four          69               31   6849.0  \n",
      "29             four          68               31   6795.0  \n",
      "21             four          78               24   6785.0  \n",
      "41             four          69               31   6649.0  \n",
      "15             four          70               38   6575.0  \n",
      "50             four          62               31   6488.0  \n",
      "16             four          68               31   6377.0  \n",
      "49             four          62               31   6338.0  \n",
      "14             four          70               38   6295.0  \n",
      "17             four          68               31   6229.0  \n",
      "37             four          68               31   6189.0  \n",
      "28             four          68               31   6095.0  \n",
      "36             four          68               37   5389.0  \n",
      "48             four          62               35   5348.0  \n",
      "27             four          68               30   5195.0  \n",
      "13            three          48               47   5151.0  \n",
      "22             four          70               38      NaN  \n",
      "23             four          70               38      NaN  \n",
      "47            eight         288               17      NaN  \n",
      "\n",
      "[61 rows x 10 columns]\n"
     ]
    }
   ],
   "source": [
    "'''Sort all cars by Price column'''\n",
    "import pandas as pd\n",
    "extracted_file=pd.read_csv(\"Automobile_data.csv\",sep=',')\n",
    "print(extracted_file.sort_values(by='price',ascending=False))\n",
    "\n"
   ]
  },
  {
   "cell_type": "code",
   "execution_count": 304,
   "metadata": {},
   "outputs": [
    {
     "name": "stdout",
     "output_type": "stream",
     "text": [
      "               Company   Price\n",
      "Germany 0         Ford   23845\n",
      "        1     Mercedes  171995\n",
      "        2          BMV  135925\n",
      "        3         Audi   71400\n",
      "Japan   0       Toyota   29995\n",
      "        1        Honda   23600\n",
      "        2       Nissan   61500\n",
      "        3  Mitsubishi    58900\n"
     ]
    }
   ],
   "source": [
    "''' Concatenate two data frames using the following conditions'''\n",
    "'''Create two data frames using the following two Dicts, Concatenate \n",
    "those two data frames and create a key for each data frame.'''\n",
    "import pandas as pd\n",
    "GermanCars = {'Company': ['Ford', 'Mercedes', 'BMV', 'Audi'], 'Price': [23845, 171995, 135925 , 71400]}\n",
    "germancar = pd.DataFrame(GermanCars)\n",
    "japaneseCars = {'Company': ['Toyota', 'Honda', 'Nissan', 'Mitsubishi '], 'Price': [29995, 23600, 61500 , 58900]}\n",
    "japancars=pd.DataFrame(japaneseCars)\n",
    "cars=pd.concat([germancar,japancars],keys=['Germany','Japan'])\n",
    "print(cars)"
   ]
  },
  {
   "cell_type": "code",
   "execution_count": 303,
   "metadata": {},
   "outputs": [
    {
     "data": {
      "text/html": [
       "<div>\n",
       "<style scoped>\n",
       "    .dataframe tbody tr th:only-of-type {\n",
       "        vertical-align: middle;\n",
       "    }\n",
       "\n",
       "    .dataframe tbody tr th {\n",
       "        vertical-align: top;\n",
       "    }\n",
       "\n",
       "    .dataframe thead th {\n",
       "        text-align: right;\n",
       "    }\n",
       "</style>\n",
       "<table border=\"1\" class=\"dataframe\">\n",
       "  <thead>\n",
       "    <tr style=\"text-align: right;\">\n",
       "      <th></th>\n",
       "      <th>Company</th>\n",
       "      <th>Price</th>\n",
       "      <th>horsepower</th>\n",
       "    </tr>\n",
       "  </thead>\n",
       "  <tbody>\n",
       "    <tr>\n",
       "      <th>0</th>\n",
       "      <td>Toyota</td>\n",
       "      <td>23845</td>\n",
       "      <td>141</td>\n",
       "    </tr>\n",
       "    <tr>\n",
       "      <th>1</th>\n",
       "      <td>Honda</td>\n",
       "      <td>17995</td>\n",
       "      <td>80</td>\n",
       "    </tr>\n",
       "    <tr>\n",
       "      <th>2</th>\n",
       "      <td>BMV</td>\n",
       "      <td>135925</td>\n",
       "      <td>182</td>\n",
       "    </tr>\n",
       "    <tr>\n",
       "      <th>3</th>\n",
       "      <td>Audi</td>\n",
       "      <td>71400</td>\n",
       "      <td>160</td>\n",
       "    </tr>\n",
       "  </tbody>\n",
       "</table>\n",
       "</div>"
      ],
      "text/plain": [
       "  Company   Price  horsepower\n",
       "0  Toyota   23845         141\n",
       "1   Honda   17995          80\n",
       "2     BMV  135925         182\n",
       "3    Audi   71400         160"
      ]
     },
     "execution_count": 303,
     "metadata": {},
     "output_type": "execute_result"
    }
   ],
   "source": [
    "'''Merge two data frames using the following condition'''\n",
    "'''Create two data frames using the following two Dicts, Merge\n",
    "two data frames, and append second data frame as a new column to the first data frame.'''\n",
    "import pandas as pd\n",
    "Car_Price = {'Company': ['Toyota', 'Honda', 'BMV', 'Audi'], 'Price': [23845, 17995, 135925 , 71400]}\n",
    "car_Horsepower = {'Company': ['Toyota', 'Honda', 'BMV', 'Audi'], 'horsepower': [141, 80, 182 , 160]}\n",
    "carprice=pd.DataFrame(Car_Price)\n",
    "carhorsepower=pd.DataFrame(car_Horsepower)\n",
    "pd.merge(carprice,carhorsepower,on='Company')"
   ]
  },
  {
   "cell_type": "code",
   "execution_count": 162,
   "metadata": {},
   "outputs": [],
   "source": []
  },
  {
   "cell_type": "code",
   "execution_count": null,
   "metadata": {},
   "outputs": [],
   "source": [
    "\n",
    "\n",
    "\n"
   ]
  },
  {
   "cell_type": "code",
   "execution_count": null,
   "metadata": {},
   "outputs": [],
   "source": []
  },
  {
   "cell_type": "code",
   "execution_count": null,
   "metadata": {},
   "outputs": [],
   "source": [
    "\n",
    "\n",
    "\n",
    "\n"
   ]
  },
  {
   "cell_type": "code",
   "execution_count": null,
   "metadata": {},
   "outputs": [],
   "source": []
  },
  {
   "cell_type": "code",
   "execution_count": null,
   "metadata": {},
   "outputs": [],
   "source": []
  },
  {
   "cell_type": "code",
   "execution_count": null,
   "metadata": {},
   "outputs": [],
   "source": [
    "\n",
    "\n"
   ]
  },
  {
   "cell_type": "code",
   "execution_count": null,
   "metadata": {},
   "outputs": [],
   "source": [
    "\n"
   ]
  },
  {
   "cell_type": "code",
   "execution_count": null,
   "metadata": {},
   "outputs": [],
   "source": []
  }
 ],
 "metadata": {
  "kernelspec": {
   "display_name": "Python 3",
   "language": "python",
   "name": "python3"
  },
  "language_info": {
   "codemirror_mode": {
    "name": "ipython",
    "version": 3
   },
   "file_extension": ".py",
   "mimetype": "text/x-python",
   "name": "python",
   "nbconvert_exporter": "python",
   "pygments_lexer": "ipython3",
   "version": "3.7.3"
  }
 },
 "nbformat": 4,
 "nbformat_minor": 2
}
